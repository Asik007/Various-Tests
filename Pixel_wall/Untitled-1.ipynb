{
    "cells": [
        {
            "cell_type": "code",
            "execution_count": 45,
            "source": [
                "# find the remainder of the strip / wall height\r\n",
                "from random import randint\r\n",
                "\r\n",
                "striplen = 64\r\n",
                "height = 10\r\n",
                "width = 10\r\n",
                "stripwrit = 0\r\n",
                "pixel_val = {}\r\n",
                "x = 0\r\n",
                "for strip in range(width):\r\n",
                "    pixel_val[strip]=[[pixel, randint(1,225), randint(1,225), randint(1,225) ] for pixel in range(height)]\r\n",
                "    # print(pixel_val[strip])\r\n",
                "    # for pixel in pixel_val[strip]:\r\n",
                "    #     print(x)\r\n",
                "    #     x=x+1\r\n",
                "        \r\n",
                "# print(pixel_val)\r\n",
                "print(pixel_val[1])\r\n",
                "#if pixels left in a strip is less than height then return from pixel loop and address pixel loop for next strip for a little \r\n",
                "#or find how many pixels short the strip is and \r\n",
                "\r\n",
                "\r\n"
            ],
            "outputs": [
                {
                    "output_type": "stream",
                    "name": "stdout",
                    "text": [
                        "[[0, 101, 123, 141], [1, 212, 139, 76], [2, 44, 106, 204], [3, 89, 203, 221], [4, 211, 172, 147], [5, 146, 25, 134], [6, 221, 162, 202], [7, 128, 15, 3], [8, 168, 194, 67], [9, 7, 160, 86]]\n"
                    ]
                }
            ],
            "metadata": {}
        }
    ],
    "metadata": {
        "orig_nbformat": 4,
        "language_info": {
            "name": "python",
            "version": "3.9.6",
            "mimetype": "text/x-python",
            "codemirror_mode": {
                "name": "ipython",
                "version": 3
            },
            "pygments_lexer": "ipython3",
            "nbconvert_exporter": "python",
            "file_extension": ".py"
        },
        "kernelspec": {
            "name": "python3",
            "display_name": "Python 3.9.6 64-bit"
        },
        "interpreter": {
            "hash": "e922dd073470bdcc017ae3abd31d6491d6ed7bf31c1d559806e5511bfea88b81"
        }
    },
    "nbformat": 4,
    "nbformat_minor": 2
}